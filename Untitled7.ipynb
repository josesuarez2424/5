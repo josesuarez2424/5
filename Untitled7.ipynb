{
  "nbformat": 4,
  "nbformat_minor": 0,
  "metadata": {
    "colab": {
      "provenance": [],
      "authorship_tag": "ABX9TyMcVE5+cJOH1/fKUUv9zWT4",
      "include_colab_link": true
    },
    "kernelspec": {
      "name": "python3",
      "display_name": "Python 3"
    },
    "language_info": {
      "name": "python"
    }
  },
  "cells": [
    {
      "cell_type": "markdown",
      "metadata": {
        "id": "view-in-github",
        "colab_type": "text"
      },
      "source": [
        "<a href=\"https://colab.research.google.com/github/josesuarez2424/5/blob/main/Untitled7.ipynb\" target=\"_parent\"><img src=\"https://colab.research.google.com/assets/colab-badge.svg\" alt=\"Open In Colab\"/></a>"
      ]
    },
    {
      "cell_type": "markdown",
      "source": [
        "# TALLER_N°5\n",
        "JOSE DANIEL SUAREZ 000453189\n",
        "JANNIER NAVARRO 000496984\n"
      ],
      "metadata": {
        "id": "6Ez_15WJlbMA"
      }
    },
    {
      "cell_type": "markdown",
      "source": [
        "#Escribe un programa en Python que solicite al usuario un número entero positivo n y luego imprima los primeros n números naturales usando un ciclo while."
      ],
      "metadata": {
        "id": "Ldd8N6Pzq4Lo"
      }
    },
    {
      "cell_type": "code",
      "source": [
        "try:\n",
        "    n = int(input(\"Ingresa un número entero positivo: \"))\n",
        "    if n <= 0:\n",
        "        print(\"Por favor, ingresa un número entero positivo.\")\n",
        "    else:\n",
        "        contador = 1\n",
        "        print(f\"Los primeros {n} números naturales son:\")\n",
        "        while contador <= n:\n",
        "            print(contador, end=' ')\n",
        "            contador += 1\n",
        "except ValueError:\n",
        "    print(\"Por favor, ingresa un número entero válido.\")"
      ],
      "metadata": {
        "colab": {
          "base_uri": "https://localhost:8080/"
        },
        "id": "Tod4KiJlluJd",
        "outputId": "f05046da-ad51-40e3-acea-120937fe883c"
      },
      "execution_count": 1,
      "outputs": [
        {
          "output_type": "stream",
          "name": "stdout",
          "text": [
            "Ingresa un número entero positivo: 28\n",
            "Los primeros 28 números naturales son:\n",
            "1 2 3 4 5 6 7 8 9 10 11 12 13 14 15 16 17 18 19 20 21 22 23 24 25 26 27 28 "
          ]
        }
      ]
    },
    {
      "cell_type": "markdown",
      "source": [
        "# Escribe un programa en Python que calcule la suma de todos los números pares del 1 al 100 utilizando un ciclo for."
      ],
      "metadata": {
        "id": "ofYfGR4hl7ST"
      }
    },
    {
      "cell_type": "code",
      "source": [
        "suma_pares = 0\n",
        "\n",
        "for numero in range(2, 101, 2):\n",
        "    suma_pares += numero\n",
        "\n",
        "print(\"La suma de todos los números pares del 1 al 100 es:\", suma_pares)"
      ],
      "metadata": {
        "colab": {
          "base_uri": "https://localhost:8080/"
        },
        "id": "18SCyWgTmRmO",
        "outputId": "9fd7946e-d53b-4921-a8cf-a3e141162f32"
      },
      "execution_count": 4,
      "outputs": [
        {
          "output_type": "stream",
          "name": "stdout",
          "text": [
            "La suma de todos los números pares del 1 al 100 es: 2550\n"
          ]
        }
      ]
    },
    {
      "cell_type": "markdown",
      "source": [
        "#Escribe un programa en Python que imprima el siguiente patrón u;lizando ciclos anidados:\n",
        "\n",
        "1\n",
        "\n",
        "12\n",
        "\n",
        "123\n",
        "\n",
        "1234\n",
        "\n",
        "12345\n",
        "\n",
        "Etc…."
      ],
      "metadata": {
        "id": "t-VcJ1yRmrI5"
      }
    },
    {
      "cell_type": "code",
      "source": [
        "num_filas = int(input(\"Ingrese el número de filas para el patrón: \"))\n",
        "\n",
        "for i in range(1, num_filas + 1):\n",
        "    for j in range(1, i + 1):\n",
        "        print(j, end='')\n",
        "    print()"
      ],
      "metadata": {
        "colab": {
          "base_uri": "https://localhost:8080/"
        },
        "id": "I2KfCiiymuBj",
        "outputId": "34eeb353-7e67-4fc3-f241-bc86c3ff4a2b"
      },
      "execution_count": 5,
      "outputs": [
        {
          "output_type": "stream",
          "name": "stdout",
          "text": [
            "Ingrese el número de filas para el patrón: 6\n",
            "1\n",
            "12\n",
            "123\n",
            "1234\n",
            "12345\n",
            "123456\n"
          ]
        }
      ]
    },
    {
      "cell_type": "markdown",
      "source": [
        "#Escribe un programa en Python que solicite al usuario un número entero positivo y luego determine si ese número es primo o no utilizando un ciclo while."
      ],
      "metadata": {
        "id": "o9jwbiernwyU"
      }
    },
    {
      "cell_type": "code",
      "source": [
        "n = int(input(\"Ingrese un número entero positivo: \"))\n",
        "\n",
        "if n <= 0:\n",
        "    print(\"Por favor, ingrese un número entero positivo.\")\n",
        "else:\n",
        "    contador = 0\n",
        "    divisor = 1\n",
        "\n",
        "    while divisor <= n:\n",
        "        if n % divisor == 0:\n",
        "            contador += 1\n",
        "        if contador > 2:\n",
        "            break\n",
        "        divisor += 1\n",
        "\n",
        "    if contador == 2:\n",
        "        print(n, \"es un número primo.\")\n",
        "    else:\n",
        "        print(n, \"no es un número primo.\")"
      ],
      "metadata": {
        "colab": {
          "base_uri": "https://localhost:8080/"
        },
        "id": "eccyKpuin3ar",
        "outputId": "ef44765c-dc4d-42a0-9043-8a3946551c83"
      },
      "execution_count": 6,
      "outputs": [
        {
          "output_type": "stream",
          "name": "stdout",
          "text": [
            "Ingrese un número entero positivo: 8\n",
            "8 no es un número primo.\n"
          ]
        }
      ]
    },
    {
      "cell_type": "markdown",
      "source": [
        "#Escribe un programa en Python que incluya un ciclo while que no se detenga hasta que el usuario ingrese \"salir\" como entrada. Dentro del ciclo, permite al usuario realizar operaciones matemáticas simples como suma, resta, multiplicación o división."
      ],
      "metadata": {
        "id": "d0z60PbvoRrL"
      }
    },
    {
      "cell_type": "code",
      "source": [
        "while True:\n",
        "    entrada = input(\"Ingrese una operación (+, -, *, /) o 'salir' para terminar: \")\n",
        "\n",
        "    if entrada.lower() == \"salir\":\n",
        "        print(\"¡Hasta luego!\")\n",
        "        break  # Salir del ciclo\n",
        "\n",
        "    if entrada in ('+', '-', '*', '/'):\n",
        "        num1 = float(input(\"Ingrese el primer número: \"))\n",
        "        num2 = float(input(\"Ingrese el segundo número: \"))\n",
        "\n",
        "        if entrada == '+':\n",
        "            resultado = num1 + num2\n",
        "        elif entrada == '-':\n",
        "            resultado = num1 - num2\n",
        "        elif entrada == '*':\n",
        "            resultado = num1 * num2\n",
        "        elif entrada == '/':\n",
        "            if num2 == 0:\n",
        "                print(\"No se puede dividir por cero.\")\n",
        "                continue\n",
        "            resultado = num1 / num2\n",
        "\n",
        "        print(\"Resultado:\", resultado)\n",
        "    else:\n",
        "        print(\"Operación no válida. Por favor, ingrese una operación válida (+, -, *, /) o 'salir'.\")"
      ],
      "metadata": {
        "colab": {
          "base_uri": "https://localhost:8080/"
        },
        "id": "sL4MySfhoYf7",
        "outputId": "a39f543a-4e86-4f2f-9fb7-e0398fe7c9c0"
      },
      "execution_count": 7,
      "outputs": [
        {
          "output_type": "stream",
          "name": "stdout",
          "text": [
            "Ingrese una operación (+, -, *, /) o 'salir' para terminar: +\n",
            "Ingrese el primer número: 8\n",
            "Ingrese el segundo número: 8\n",
            "Resultado: 16.0\n",
            "Ingrese una operación (+, -, *, /) o 'salir' para terminar: -\n",
            "Ingrese el primer número: 8\n",
            "Ingrese el segundo número: 8\n",
            "Resultado: 0.0\n",
            "Ingrese una operación (+, -, *, /) o 'salir' para terminar: *\n",
            "Ingrese el primer número: 8\n",
            "Ingrese el segundo número: 8\n",
            "Resultado: 64.0\n",
            "Ingrese una operación (+, -, *, /) o 'salir' para terminar: /\n",
            "Ingrese el primer número: 8\n",
            "Ingrese el segundo número: 8\n",
            "Resultado: 1.0\n",
            "Ingrese una operación (+, -, *, /) o 'salir' para terminar: salir\n",
            "¡Hasta luego!\n"
          ]
        }
      ]
    },
    {
      "cell_type": "markdown",
      "source": [
        "#Escribe un programa en Python que imprima los números del 1 al número ingresado por el usuario, en orden descendente utilizando un ciclo for y la función range()."
      ],
      "metadata": {
        "id": "UtDU23F0pYLY"
      }
    },
    {
      "cell_type": "code",
      "source": [
        " numero = int(input(\"Ingrese un número entero: \"))\n",
        "\n",
        "if numero <= 0:\n",
        "    print(\"Por favor, ingrese un número entero positivo.\")\n",
        "else:\n",
        "    for i in range(numero, 0, -1):\n",
        "        print(i)"
      ],
      "metadata": {
        "colab": {
          "base_uri": "https://localhost:8080/"
        },
        "id": "fbsV--z2pfFa",
        "outputId": "be35de6b-afdb-43d0-bfaf-7d692be5205e"
      },
      "execution_count": 8,
      "outputs": [
        {
          "output_type": "stream",
          "name": "stdout",
          "text": [
            "Ingrese un número entero: 10\n",
            "10\n",
            "9\n",
            "8\n",
            "7\n",
            "6\n",
            "5\n",
            "4\n",
            "3\n",
            "2\n",
            "1\n"
          ]
        }
      ]
    },
    {
      "cell_type": "markdown",
      "source": [
        "#Escribe un programa en Python que imprima la secuencia de números de Fibonacci hasta un valor dado n utilizando un ciclo while."
      ],
      "metadata": {
        "id": "MliOTMCop58W"
      }
    },
    {
      "cell_type": "code",
      "source": [
        "n = int(input(\"Ingrese un valor máximo para la secuencia de Fibonacci: \"))\n",
        "\n",
        "a, b = 0, 1\n",
        "\n",
        "while a <= n:\n",
        "    print(a, end=' ')\n",
        "    a, b = b, a + b\n"
      ],
      "metadata": {
        "colab": {
          "base_uri": "https://localhost:8080/"
        },
        "id": "GYIvE3y_qEaO",
        "outputId": "32d620d4-d06b-4bf8-e7a2-c87158151187"
      },
      "execution_count": 11,
      "outputs": [
        {
          "output_type": "stream",
          "name": "stdout",
          "text": [
            "Ingrese un valor máximo para la secuencia de Fibonacci: 32\n",
            "0 1 1 2 3 5 8 13 21 "
          ]
        }
      ]
    },
    {
      "cell_type": "markdown",
      "source": [
        "#Escribe un programa en Python que solicite al usuario un número entero positivo y luego calcule la suma de sus dígitos utilizando un ciclo while."
      ],
      "metadata": {
        "id": "V-C8VDxaqhc_"
      }
    },
    {
      "cell_type": "code",
      "source": [
        "numero = int(input(\"Ingrese un número entero positivo: \"))\n",
        "\n",
        "if numero <= 0:\n",
        "    print(\"Por favor, ingrese un número entero positivo.\")\n",
        "else:\n",
        "    suma_digitos = 0\n",
        "\n",
        "    while numero > 0:\n",
        "        digito = numero % 10\n",
        "        suma_digitos += digito\n",
        "        numero //= 10\n",
        "\n",
        "    print(\"La suma de los dígitos es:\", suma_digitos)"
      ],
      "metadata": {
        "colab": {
          "base_uri": "https://localhost:8080/"
        },
        "id": "4tStM_pgqrDN",
        "outputId": "99c3f66d-26de-4f7c-fc73-479966bc245b"
      },
      "execution_count": 12,
      "outputs": [
        {
          "output_type": "stream",
          "name": "stdout",
          "text": [
            "Ingrese un número entero positivo: 80\n",
            "La suma de los dígitos es: 8\n"
          ]
        }
      ]
    }
  ]
}